{
 "cells": [
  {
   "cell_type": "code",
   "execution_count": 6,
   "metadata": {},
   "outputs": [],
   "source": [
    "import asyncio\n",
    "from fitness import (\n",
    "    get_sleep_score,\n",
    "    get_paris_weather,\n",
    "    make_oura_request,\n",
    "    make_weather_request,\n",
    "    OPENWEATHER_API_BASE,\n",
    "    OPENWEATHER_API_KEY\n",
    ")"
   ]
  },
  {
   "cell_type": "code",
   "execution_count": 7,
   "metadata": {},
   "outputs": [
    {
     "data": {
      "text/html": [
       "<pre style=\"white-space:pre;overflow-x:auto;line-height:normal;font-family:Menlo,'DejaVu Sans Mono',consolas,'Courier New',monospace\"><span style=\"color: #7fbfbf; text-decoration-color: #7fbfbf\">[02/16/25 18:07:38] </span><span style=\"color: #000080; text-decoration-color: #000080\">INFO    </span> HTTP Request: <span style=\"color: #808000; text-decoration-color: #808000; font-weight: bold\">GET</span>                                                      <a href=\"file://c:\\Users\\Admin\\AppData\\Local\\Programs\\Python\\Python313\\Lib\\site-packages\\httpx\\_client.py\" target=\"_blank\"><span style=\"color: #7f7f7f; text-decoration-color: #7f7f7f\">_client.py</span></a><span style=\"color: #7f7f7f; text-decoration-color: #7f7f7f\">:</span><a href=\"file://c:\\Users\\Admin\\AppData\\Local\\Programs\\Python\\Python313\\Lib\\site-packages\\httpx\\_client.py#1740\" target=\"_blank\"><span style=\"color: #7f7f7f; text-decoration-color: #7f7f7f\">1740</span></a>\n",
       "<span style=\"color: #7fbfbf; text-decoration-color: #7fbfbf\">                    </span>         <span style=\"color: #0000ff; text-decoration-color: #0000ff; text-decoration: underline\">https://api.openweathermap.org/data/2.5/weather?q=Paris,FR&amp;appid=a1873</span> <span style=\"color: #7f7f7f; text-decoration-color: #7f7f7f\">               </span>\n",
       "<span style=\"color: #7fbfbf; text-decoration-color: #7fbfbf\">                    </span>         <span style=\"color: #0000ff; text-decoration-color: #0000ff; text-decoration: underline\">da14ab615fb26cfd2cebc294351&amp;units=metric</span> <span style=\"color: #008000; text-decoration-color: #008000\">\"HTTP/1.1 200 OK\"</span>             <span style=\"color: #7f7f7f; text-decoration-color: #7f7f7f\">               </span>\n",
       "</pre>\n"
      ],
      "text/plain": [
       "\u001b[2;36m[02/16/25 18:07:38]\u001b[0m\u001b[2;36m \u001b[0m\u001b[34mINFO    \u001b[0m HTTP Request: \u001b[1;33mGET\u001b[0m                                                      \u001b]8;id=323469;file://c:\\Users\\Admin\\AppData\\Local\\Programs\\Python\\Python313\\Lib\\site-packages\\httpx\\_client.py\u001b\\\u001b[2m_client.py\u001b[0m\u001b]8;;\u001b\\\u001b[2m:\u001b[0m\u001b]8;id=749304;file://c:\\Users\\Admin\\AppData\\Local\\Programs\\Python\\Python313\\Lib\\site-packages\\httpx\\_client.py#1740\u001b\\\u001b[2m1740\u001b[0m\u001b]8;;\u001b\\\n",
       "\u001b[2;36m                    \u001b[0m         \u001b[4;94mhttps://api.openweathermap.org/data/2.5/weather?\u001b[0m\u001b[4;94mq\u001b[0m\u001b[4;94m=\u001b[0m\u001b[4;94mParis\u001b[0m\u001b[4;94m,FR&\u001b[0m\u001b[4;94mappid\u001b[0m\u001b[4;94m=\u001b[0m\u001b[4;94ma1873\u001b[0m \u001b[2m               \u001b[0m\n",
       "\u001b[2;36m                    \u001b[0m         \u001b[4;94mda14ab615fb26cfd2cebc294351\u001b[0m\u001b[4;94m&\u001b[0m\u001b[4;94munits\u001b[0m\u001b[4;94m=\u001b[0m\u001b[4;94mmetric\u001b[0m \u001b[32m\"HTTP/1.1 200 OK\"\u001b[0m             \u001b[2m               \u001b[0m\n"
      ]
     },
     "metadata": {},
     "output_type": "display_data"
    },
    {
     "name": "stdout",
     "output_type": "stream",
     "text": [
      "Raw Weather API Response:\n",
      "{'coord': {'lon': 2.3488, 'lat': 48.8534}, 'weather': [{'id': 800, 'main': 'Clear', 'description': 'clear sky', 'icon': '01d'}], 'base': 'stations', 'main': {'temp': 5.28, 'feels_like': 1.62, 'temp_min': 4.56, 'temp_max': 5.88, 'pressure': 1018, 'humidity': 70, 'sea_level': 1018, 'grnd_level': 1007}, 'visibility': 10000, 'wind': {'speed': 5.14, 'deg': 50}, 'clouds': {'all': 0}, 'dt': 1739725517, 'sys': {'type': 2, 'id': 2012208, 'country': 'FR', 'sunrise': 1739689029, 'sunset': 1739725949}, 'timezone': 3600, 'id': 2988507, 'name': 'Paris', 'cod': 200}\n",
      "\n",
      "Formatted Weather Tool Response:\n"
     ]
    },
    {
     "data": {
      "text/html": [
       "<pre style=\"white-space:pre;overflow-x:auto;line-height:normal;font-family:Menlo,'DejaVu Sans Mono',consolas,'Courier New',monospace\"><span style=\"color: #7fbfbf; text-decoration-color: #7fbfbf\">                    </span><span style=\"color: #000080; text-decoration-color: #000080\">INFO    </span> HTTP Request: <span style=\"color: #808000; text-decoration-color: #808000; font-weight: bold\">GET</span>                                                      <a href=\"file://c:\\Users\\Admin\\AppData\\Local\\Programs\\Python\\Python313\\Lib\\site-packages\\httpx\\_client.py\" target=\"_blank\"><span style=\"color: #7f7f7f; text-decoration-color: #7f7f7f\">_client.py</span></a><span style=\"color: #7f7f7f; text-decoration-color: #7f7f7f\">:</span><a href=\"file://c:\\Users\\Admin\\AppData\\Local\\Programs\\Python\\Python313\\Lib\\site-packages\\httpx\\_client.py#1740\" target=\"_blank\"><span style=\"color: #7f7f7f; text-decoration-color: #7f7f7f\">1740</span></a>\n",
       "<span style=\"color: #7fbfbf; text-decoration-color: #7fbfbf\">                    </span>         <span style=\"color: #0000ff; text-decoration-color: #0000ff; text-decoration: underline\">https://api.openweathermap.org/data/2.5/weather?q=Paris,FR&amp;appid=a1873</span> <span style=\"color: #7f7f7f; text-decoration-color: #7f7f7f\">               </span>\n",
       "<span style=\"color: #7fbfbf; text-decoration-color: #7fbfbf\">                    </span>         <span style=\"color: #0000ff; text-decoration-color: #0000ff; text-decoration: underline\">da14ab615fb26cfd2cebc294351&amp;units=metric</span> <span style=\"color: #008000; text-decoration-color: #008000\">\"HTTP/1.1 200 OK\"</span>             <span style=\"color: #7f7f7f; text-decoration-color: #7f7f7f\">               </span>\n",
       "</pre>\n"
      ],
      "text/plain": [
       "\u001b[2;36m                   \u001b[0m\u001b[2;36m \u001b[0m\u001b[34mINFO    \u001b[0m HTTP Request: \u001b[1;33mGET\u001b[0m                                                      \u001b]8;id=26851;file://c:\\Users\\Admin\\AppData\\Local\\Programs\\Python\\Python313\\Lib\\site-packages\\httpx\\_client.py\u001b\\\u001b[2m_client.py\u001b[0m\u001b]8;;\u001b\\\u001b[2m:\u001b[0m\u001b]8;id=425468;file://c:\\Users\\Admin\\AppData\\Local\\Programs\\Python\\Python313\\Lib\\site-packages\\httpx\\_client.py#1740\u001b\\\u001b[2m1740\u001b[0m\u001b]8;;\u001b\\\n",
       "\u001b[2;36m                    \u001b[0m         \u001b[4;94mhttps://api.openweathermap.org/data/2.5/weather?\u001b[0m\u001b[4;94mq\u001b[0m\u001b[4;94m=\u001b[0m\u001b[4;94mParis\u001b[0m\u001b[4;94m,FR&\u001b[0m\u001b[4;94mappid\u001b[0m\u001b[4;94m=\u001b[0m\u001b[4;94ma1873\u001b[0m \u001b[2m               \u001b[0m\n",
       "\u001b[2;36m                    \u001b[0m         \u001b[4;94mda14ab615fb26cfd2cebc294351\u001b[0m\u001b[4;94m&\u001b[0m\u001b[4;94munits\u001b[0m\u001b[4;94m=\u001b[0m\u001b[4;94mmetric\u001b[0m \u001b[32m\"HTTP/1.1 200 OK\"\u001b[0m             \u001b[2m               \u001b[0m\n"
      ]
     },
     "metadata": {},
     "output_type": "display_data"
    },
    {
     "name": "stdout",
     "output_type": "stream",
     "text": [
      "\n",
      "Current Weather in Paris:\n",
      "Temperature: 5.28°C (Feels like 1.62°C)\n",
      "Conditions: Clear sky\n",
      "Humidity: 70%\n",
      "Wind Speed: 5.14 m/s\n",
      "\n"
     ]
    }
   ],
   "source": [
    "async def test_weather_api():\n",
    "    url = f\"{OPENWEATHER_API_BASE}/weather?q=Paris,FR&appid={OPENWEATHER_API_KEY}&units=metric\"\n",
    "    result = await make_weather_request(url)\n",
    "    print(\"Raw Weather API Response:\")\n",
    "    print(result)\n",
    "    \n",
    "    print(\"\\nFormatted Weather Tool Response:\")\n",
    "    weather = await get_paris_weather()\n",
    "    print(weather)\n",
    "\n",
    "# Test the weather API\n",
    "await test_weather_api()"
   ]
  },
  {
   "cell_type": "code",
   "execution_count": 9,
   "metadata": {},
   "outputs": [
    {
     "name": "stdout",
     "output_type": "stream",
     "text": [
      "Testing Sleep Score Tool:\n"
     ]
    },
    {
     "data": {
      "text/html": [
       "<pre style=\"white-space:pre;overflow-x:auto;line-height:normal;font-family:Menlo,'DejaVu Sans Mono',consolas,'Courier New',monospace\"><span style=\"color: #7fbfbf; text-decoration-color: #7fbfbf\">[02/16/25 18:08:01] </span><span style=\"color: #000080; text-decoration-color: #000080\">INFO    </span> HTTP Request: <span style=\"color: #808000; text-decoration-color: #808000; font-weight: bold\">GET</span>                                                      <a href=\"file://c:\\Users\\Admin\\AppData\\Local\\Programs\\Python\\Python313\\Lib\\site-packages\\httpx\\_client.py\" target=\"_blank\"><span style=\"color: #7f7f7f; text-decoration-color: #7f7f7f\">_client.py</span></a><span style=\"color: #7f7f7f; text-decoration-color: #7f7f7f\">:</span><a href=\"file://c:\\Users\\Admin\\AppData\\Local\\Programs\\Python\\Python313\\Lib\\site-packages\\httpx\\_client.py#1740\" target=\"_blank\"><span style=\"color: #7f7f7f; text-decoration-color: #7f7f7f\">1740</span></a>\n",
       "<span style=\"color: #7fbfbf; text-decoration-color: #7fbfbf\">                    </span>         <span style=\"color: #0000ff; text-decoration-color: #0000ff; text-decoration: underline\">https://api.ouraring.com/v2/usercollection/daily_sleep?start_date=2025</span> <span style=\"color: #7f7f7f; text-decoration-color: #7f7f7f\">               </span>\n",
       "<span style=\"color: #7fbfbf; text-decoration-color: #7fbfbf\">                    </span>         <span style=\"color: #0000ff; text-decoration-color: #0000ff; text-decoration: underline\">-02-16&amp;end_date=2025-02-16</span> <span style=\"color: #008000; text-decoration-color: #008000\">\"HTTP/1.1 401 Unauthorized\"</span>                 <span style=\"color: #7f7f7f; text-decoration-color: #7f7f7f\">               </span>\n",
       "</pre>\n"
      ],
      "text/plain": [
       "\u001b[2;36m[02/16/25 18:08:01]\u001b[0m\u001b[2;36m \u001b[0m\u001b[34mINFO    \u001b[0m HTTP Request: \u001b[1;33mGET\u001b[0m                                                      \u001b]8;id=884079;file://c:\\Users\\Admin\\AppData\\Local\\Programs\\Python\\Python313\\Lib\\site-packages\\httpx\\_client.py\u001b\\\u001b[2m_client.py\u001b[0m\u001b]8;;\u001b\\\u001b[2m:\u001b[0m\u001b]8;id=462310;file://c:\\Users\\Admin\\AppData\\Local\\Programs\\Python\\Python313\\Lib\\site-packages\\httpx\\_client.py#1740\u001b\\\u001b[2m1740\u001b[0m\u001b]8;;\u001b\\\n",
       "\u001b[2;36m                    \u001b[0m         \u001b[4;94mhttps://api.ouraring.com/v2/usercollection/daily_sleep?\u001b[0m\u001b[4;94mstart_date\u001b[0m\u001b[4;94m=\u001b[0m\u001b[4;94m2025\u001b[0m \u001b[2m               \u001b[0m\n",
       "\u001b[2;36m                    \u001b[0m         \u001b[4;94m-02-16&\u001b[0m\u001b[4;94mend_date\u001b[0m\u001b[4;94m=\u001b[0m\u001b[4;94m2025\u001b[0m\u001b[4;94m-02-16\u001b[0m \u001b[32m\"HTTP/1.1 401 Unauthorized\"\u001b[0m                 \u001b[2m               \u001b[0m\n"
      ]
     },
     "metadata": {},
     "output_type": "display_data"
    },
    {
     "ename": "TypeError",
     "evalue": "'NoneType' object is not subscriptable",
     "output_type": "error",
     "traceback": [
      "\u001b[1;31m---------------------------------------------------------------------------\u001b[0m",
      "\u001b[1;31mTypeError\u001b[0m                                 Traceback (most recent call last)",
      "Cell \u001b[1;32mIn[9], line 17\u001b[0m\n\u001b[0;32m     14\u001b[0m     \u001b[38;5;28mprint\u001b[39m(raw_response)\n\u001b[0;32m     16\u001b[0m \u001b[38;5;66;03m# Test the Oura API\u001b[39;00m\n\u001b[1;32m---> 17\u001b[0m \u001b[38;5;28;01mawait\u001b[39;00m test_oura_api()\n",
      "Cell \u001b[1;32mIn[9], line 3\u001b[0m, in \u001b[0;36mtest_oura_api\u001b[1;34m()\u001b[0m\n\u001b[0;32m      1\u001b[0m \u001b[38;5;28;01masync\u001b[39;00m \u001b[38;5;28;01mdef\u001b[39;00m\u001b[38;5;250m \u001b[39m\u001b[38;5;21mtest_oura_api\u001b[39m():\n\u001b[0;32m      2\u001b[0m     \u001b[38;5;28mprint\u001b[39m(\u001b[38;5;124m\"\u001b[39m\u001b[38;5;124mTesting Sleep Score Tool:\u001b[39m\u001b[38;5;124m\"\u001b[39m)\n\u001b[1;32m----> 3\u001b[0m     sleep_score \u001b[38;5;241m=\u001b[39m \u001b[38;5;28;01mawait\u001b[39;00m get_sleep_score()\n\u001b[0;32m      4\u001b[0m     \u001b[38;5;28mprint\u001b[39m(sleep_score)\n\u001b[0;32m      6\u001b[0m     \u001b[38;5;66;03m# Test raw API call\u001b[39;00m\n",
      "File \u001b[1;32mc:\\Users\\Admin\\Code\\active-pulse\\weather\\fitness.py:63\u001b[0m, in \u001b[0;36mget_sleep_score\u001b[1;34m()\u001b[0m\n\u001b[0;32m     59\u001b[0m \u001b[38;5;129m@mcp\u001b[39m\u001b[38;5;241m.\u001b[39mtool()\n\u001b[0;32m     60\u001b[0m \u001b[38;5;28;01masync\u001b[39;00m \u001b[38;5;28;01mdef\u001b[39;00m\u001b[38;5;250m \u001b[39m\u001b[38;5;21mget_sleep_score\u001b[39m() \u001b[38;5;241m-\u001b[39m\u001b[38;5;241m>\u001b[39m \u001b[38;5;28mstr\u001b[39m:\n\u001b[0;32m     61\u001b[0m \u001b[38;5;250m    \u001b[39m\u001b[38;5;124;03m\"\"\"Get the person's sleep score from last night,\u001b[39;00m\n\u001b[0;32m     62\u001b[0m \u001b[38;5;124;03m    it captures how well the person slept.\"\"\"\u001b[39;00m\n\u001b[1;32m---> 63\u001b[0m     result \u001b[38;5;241m=\u001b[39m \u001b[38;5;28;01mawait\u001b[39;00m get_oura_data(\u001b[38;5;124m\"\u001b[39m\u001b[38;5;124mdaily_sleep\u001b[39m\u001b[38;5;124m\"\u001b[39m, process_sleep_response)\n\u001b[0;32m     64\u001b[0m     \u001b[38;5;28;01mreturn\u001b[39;00m result\n",
      "File \u001b[1;32mc:\\Users\\Admin\\Code\\active-pulse\\weather\\fitness.py:56\u001b[0m, in \u001b[0;36mget_oura_data\u001b[1;34m(data_type, processing_function)\u001b[0m\n\u001b[0;32m     53\u001b[0m params \u001b[38;5;241m=\u001b[39m {\u001b[38;5;124m\"\u001b[39m\u001b[38;5;124mstart_date\u001b[39m\u001b[38;5;124m\"\u001b[39m: today, \u001b[38;5;124m\"\u001b[39m\u001b[38;5;124mend_date\u001b[39m\u001b[38;5;124m\"\u001b[39m: today}\n\u001b[0;32m     54\u001b[0m data \u001b[38;5;241m=\u001b[39m \u001b[38;5;28;01mawait\u001b[39;00m make_oura_request(url, params)\n\u001b[1;32m---> 56\u001b[0m \u001b[38;5;28;01mreturn\u001b[39;00m \u001b[43mprocessing_function\u001b[49m\u001b[43m(\u001b[49m\u001b[43mdata\u001b[49m\u001b[43m)\u001b[49m\n",
      "File \u001b[1;32mc:\\Users\\Admin\\Code\\active-pulse\\weather\\fitness.py:43\u001b[0m, in \u001b[0;36mprocess_sleep_response\u001b[1;34m(response)\u001b[0m\n\u001b[0;32m     42\u001b[0m \u001b[38;5;28;01mdef\u001b[39;00m\u001b[38;5;250m \u001b[39m\u001b[38;5;21mprocess_sleep_response\u001b[39m(response: \u001b[38;5;28mdict\u001b[39m) \u001b[38;5;241m-\u001b[39m\u001b[38;5;241m>\u001b[39m \u001b[38;5;28mstr\u001b[39m:\n\u001b[1;32m---> 43\u001b[0m     data \u001b[38;5;241m=\u001b[39m \u001b[43mresponse\u001b[49m\u001b[43m[\u001b[49m\u001b[38;5;124;43m\"\u001b[39;49m\u001b[38;5;124;43mdata\u001b[39;49m\u001b[38;5;124;43m\"\u001b[39;49m\u001b[43m]\u001b[49m[\u001b[38;5;241m0\u001b[39m]\n\u001b[0;32m     44\u001b[0m     formatted_response \u001b[38;5;241m=\u001b[39m \u001b[38;5;124mf\u001b[39m\u001b[38;5;124m\"\"\"\u001b[39m\n\u001b[0;32m     45\u001b[0m \u001b[38;5;124m    The sleep score this night was \u001b[39m\u001b[38;5;132;01m{\u001b[39;00mdata[\u001b[38;5;124m\"\u001b[39m\u001b[38;5;124mscore\u001b[39m\u001b[38;5;124m\"\u001b[39m]\u001b[38;5;132;01m}\u001b[39;00m\u001b[38;5;124m out of 100\u001b[39m\n\u001b[0;32m     46\u001b[0m \u001b[38;5;124m    \u001b[39m\u001b[38;5;124m\"\"\"\u001b[39m\n\u001b[0;32m     47\u001b[0m     \u001b[38;5;28;01mreturn\u001b[39;00m formatted_response\n",
      "\u001b[1;31mTypeError\u001b[0m: 'NoneType' object is not subscriptable"
     ]
    }
   ],
   "source": [
    "async def test_oura_api():\n",
    "    print(\"Testing Sleep Score Tool:\")\n",
    "    sleep_score = await get_sleep_score()\n",
    "    print(sleep_score)\n",
    "    \n",
    "    # Test raw API call\n",
    "    url = \"https://api.ouraring.com/v2/usercollection/daily_sleep\"\n",
    "    params = {\n",
    "        \"start_date\": \"2024-03-20\",\n",
    "        \"end_date\": \"2024-03-20\"\n",
    "    }\n",
    "    print(\"\\nRaw Oura API Response:\")\n",
    "    raw_response = await make_oura_request(url, params)\n",
    "    print(raw_response)\n",
    "\n",
    "# Test the Oura API\n",
    "await test_oura_api()"
   ]
  }
 ],
 "metadata": {
  "kernelspec": {
   "display_name": "Python 3",
   "language": "python",
   "name": "python3"
  },
  "language_info": {
   "codemirror_mode": {
    "name": "ipython",
    "version": 3
   },
   "file_extension": ".py",
   "mimetype": "text/x-python",
   "name": "python",
   "nbconvert_exporter": "python",
   "pygments_lexer": "ipython3",
   "version": "3.13.2"
  }
 },
 "nbformat": 4,
 "nbformat_minor": 2
}
